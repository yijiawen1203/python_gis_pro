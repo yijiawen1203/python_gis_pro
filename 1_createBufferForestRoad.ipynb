{
 "cells": [
  {
   "cell_type": "code",
   "execution_count": 8,
   "metadata": {},
   "outputs": [],
   "source": [
    "import arcpy\n",
    "\n",
    "#set geoprocessing environments\n",
    "\n",
    "\n",
    "arcpy.env.workspace = r\"D:\\1_yogafile\\3_FSU\\7_intro to spatial data science mooc\\EsriTraining\\python_scripting_for_geoprocessing_workflows\\PythonGP\\PythonGP\\Data\\SanJuan.gdb\"\n",
    "\n",
    "\n",
    "# Set overwrite output to True\n",
    "arcpy.env.overwriteOutput = True"
   ]
  },
  {
   "cell_type": "markdown",
   "metadata": {},
   "source": [
    "# join the buffer distance table to the road feature class"
   ]
  },
  {
   "cell_type": "code",
   "execution_count": 10,
   "metadata": {},
   "outputs": [
    {
     "data": {
      "text/plain": [
       "'JoinField_management(in_data, in_field, join_table, join_field, {fields;fields...}, {Select transfer fields | Use field mapping}, {field_mapping}, {Do not add indexes | Add an attribute index for fields that do not have an existing index | Replace indexes for all fields})'"
      ]
     },
     "execution_count": 10,
     "metadata": {},
     "output_type": "execute_result"
    }
   ],
   "source": [
    "#set the parameters used to join hte buffer distance\n",
    "\n",
    "\n",
    "arcpy.Usage('JoinField_management')\n",
    "\n"
   ]
  },
  {
   "cell_type": "code",
   "execution_count": 12,
   "metadata": {},
   "outputs": [],
   "source": [
    "inFeatures='Roads'\n",
    "\n",
    "inField='ROUTE_TYPE'\n",
    "\n",
    "joinTable='BufferDistance'\n",
    "\n",
    "joinFiled='ROUTE_TYPE'\n"
   ]
  },
  {
   "cell_type": "code",
   "execution_count": 13,
   "metadata": {},
   "outputs": [
    {
     "data": {
      "text/html": [
       "<div class='gpresult'><h2>Messages</h2><div id='messages'>Start Time: Sunday, September 22, 2024 11:55:24 AM<br>Succeeded at Sunday, September 22, 2024 11:55:25 AM (Elapsed Time: 1.45 seconds)<br></div><div id = 'default' /></div></div>"
      ],
      "text/plain": [
       "<Result 'Roads'>"
      ]
     },
     "execution_count": 13,
     "metadata": {},
     "output_type": "execute_result"
    }
   ],
   "source": [
    "# join table to feature class\n",
    "\n",
    "arcpy.JoinField_management(inFeatures,inField,joinTable,joinFiled)"
   ]
  },
  {
   "cell_type": "markdown",
   "metadata": {},
   "source": [
    "# buffer the road using distance attributes\n"
   ]
  },
  {
   "cell_type": "code",
   "execution_count": 14,
   "metadata": {},
   "outputs": [
    {
     "data": {
      "text/plain": [
       "\"Buffer_analysis(in_features, out_feature_class, buffer_distance_or_field, {Full | Left | Right | Exclude the input polygon from buffer}, {Round | Flat}, {No Dissolve | Dissolve all output features into a single feature | Dissolve features using the listed fields' unique values or combination of values}, {dissolve_field;dissolve_field...}, {Planar | Geodesic (shape preserving)})\""
      ]
     },
     "execution_count": 14,
     "metadata": {},
     "output_type": "execute_result"
    }
   ],
   "source": [
    "arcpy.Usage('Buffer') #find the variables used in the arcpy geoprocessing tools"
   ]
  },
  {
   "cell_type": "code",
   "execution_count": 16,
   "metadata": {},
   "outputs": [
    {
     "data": {
      "text/html": [
       "<div class='gpresult'><h2>Messages</h2><div id='messages'>Start Time: Sunday, September 22, 2024 12:04:41 PM<br>Succeeded at Sunday, September 22, 2024 12:04:43 PM (Elapsed Time: 2.25 seconds)<br></div><div id = 'default' /></div></div>"
      ],
      "text/plain": [
       "<Result 'D:\\\\1_yogafile\\\\3_FSU\\\\7_intro to spatial data science mooc\\\\EsriTraining\\\\python_scripting_for_geoprocessing_workflows\\\\PythonGP\\\\PythonGP\\\\Data\\\\SanJuan.gdb\\\\RoadBuffers'>"
      ]
     },
     "execution_count": 16,
     "metadata": {},
     "output_type": "execute_result"
    }
   ],
   "source": [
    "outBuffers='RoadBuffers'\n",
    "buffField='DISTANCE'\n",
    "\n",
    "arcpy.Buffer_analysis(inFeatures,outBuffers,buffField)\n"
   ]
  },
  {
   "cell_type": "markdown",
   "metadata": {},
   "source": [
    "## find the name and usage of tools in arcpy\n"
   ]
  },
  {
   "cell_type": "code",
   "execution_count": 18,
   "metadata": {},
   "outputs": [
    {
     "data": {
      "text/plain": [
       "['Buffer3D_3d', 'Buffer_analysis']"
      ]
     },
     "execution_count": 18,
     "metadata": {},
     "output_type": "execute_result"
    }
   ],
   "source": [
    "arcpy.ListTools('Buffer*')"
   ]
  },
  {
   "cell_type": "code",
   "execution_count": 19,
   "metadata": {},
   "outputs": [
    {
     "name": "stdout",
     "output_type": "stream",
     "text": [
      "Help on function Buffer in module arcpy.analysis:\n",
      "\n",
      "Buffer(in_features=None, out_feature_class=None, buffer_distance_or_field=None, line_side=None, line_end_type=None, dissolve_option=None, dissolve_field=None, method=None) -> arcpy.arcobjects.arcobjects.Result\n",
      "    Buffer_analysis(in_features, out_feature_class, buffer_distance_or_field, {line_side}, {line_end_type}, {dissolve_option}, {dissolve_field;dissolve_field...}, {method})\n",
      "    \n",
      "       Creates buffer polygons around input features to a specified distance.\n",
      "    \n",
      "    INPUTS:\n",
      "     in_features (Feature Layer):\n",
      "         The input point, line, or polygon features that will be buffered.\n",
      "     buffer_distance_or_field (Linear Unit / Field):\n",
      "         The distance around the input features that will be buffered.\n",
      "         Distances can be provided as either a value representing a linear\n",
      "         distance or a field from the input features that contains the distance\n",
      "         to buffer each feature.If linear units are not specified or are\n",
      "         entered as Unknown, the\n",
      "         linear unit of the input features' spatial reference will be used.When\n",
      "         specifying a distance, if the linear unit has two words, such as\n",
      "         Decimal Degrees, combine the two words into one (for example, 20\n",
      "         DecimalDegrees).\n",
      "     line_side {String}:\n",
      "         Specifies the sides of the input features that will be buffered. This\n",
      "         parameter is only supported for polygon and line features.FULL-For\n",
      "         lines, buffers will be generated on both sides of the line.\n",
      "         For polygons, buffers will be generated around the polygon and will\n",
      "         contain and overlap the area of the input features. This is the\n",
      "         default.LEFT-For lines, buffers will be generated on the topological\n",
      "         left of\n",
      "         the line. This option is not supported for polygon input\n",
      "         features.RIGHT-For lines, buffers will be generated on the topological\n",
      "         right of\n",
      "         the line. This option is not supported for polygon input\n",
      "         features.OUTSIDE_ONLY-For polygons, buffers will be generated outside\n",
      "         the input\n",
      "         polygon only (the area inside the input polygon will be erased from\n",
      "         the output buffer). This option is not supported for line input\n",
      "         features.This optional parameter is not available with a Desktop Basic\n",
      "         or\n",
      "         Desktop Standard license.\n",
      "     line_end_type {String}:\n",
      "         Specifies the shape of the buffer at the end of line input features.\n",
      "         This parameter is not valid for polygon input features.ROUND-The ends\n",
      "         of the buffer will be round, in the shape of a half\n",
      "         circle. This is the default.FLAT-The ends of the buffer will be flat\n",
      "         or squared and will end at\n",
      "         the endpoint of the input line feature.This optional parameter is not\n",
      "         available with a Desktop Basic or\n",
      "         Desktop Standard license.\n",
      "     dissolve_option {String}:\n",
      "         Specifies the type of dissolve that will be performed to remove buffer\n",
      "         overlap.NONE-An individual buffer for each feature will be maintained,\n",
      "         regardless of overlap. This is the default.ALL-All buffers will be\n",
      "         dissolved together into a single feature,\n",
      "         removing any overlap.LIST-Any buffers sharing attribute values in the\n",
      "         listed fields\n",
      "         (carried over from the input features) will be dissolved.\n",
      "     dissolve_field {Field}:\n",
      "         The list of fields from the input features on which the output buffers\n",
      "         will be dissolved. Any buffers sharing attribute values in the listed\n",
      "         fields (carried over from the input features) will be dissolved.\n",
      "     method {String}:\n",
      "         Specifies whether the planar or geodesic method will be used to create\n",
      "         the buffers. PLANAR-If the input features are in a projected\n",
      "         coordinate\n",
      "         system, Euclidean buffers will be created. If the input features are\n",
      "         in a geographic coordinate system and the buffer distance is in linear\n",
      "         units (meters, feet, and so forth, as opposed to angular units such as\n",
      "         degrees), geodesic buffers will be created. This is the default.\n",
      "         You can use the Output Coordinate System environment setting to\n",
      "         specify the coordinate system to use. For example, if the input\n",
      "         features are in a projected coordinate system, you can set the\n",
      "         environment to a geographic coordinate system to create geodesic\n",
      "         buffers.GEODESIC-All buffers will be created using a shape-preserving\n",
      "         geodesic\n",
      "         buffer method, regardless of the input coordinate system.\n",
      "    \n",
      "    OUTPUTS:\n",
      "     out_feature_class (Feature Class):\n",
      "         The feature class containing the output buffers.\n",
      "\n"
     ]
    }
   ],
   "source": [
    "# Get the documentation for Buffer_analysis\n",
    "help(arcpy.Buffer_analysis)"
   ]
  },
  {
   "cell_type": "code",
   "execution_count": 23,
   "metadata": {},
   "outputs": [
    {
     "name": "stdout",
     "output_type": "stream",
     "text": [
      "Help on function Near in module arcpy.analysis:\n",
      "\n",
      "Near(in_features=None, near_features=None, search_radius=None, location=None, angle=None, method=None, field_names=None, distance_unit=None) -> arcpy.arcobjects.arcobjects.Result\n",
      "    Near_analysis(in_features, near_features;near_features..., {search_radius}, {location}, {angle}, {method}, {field_names;field_names...}, {distance_unit})\n",
      "    \n",
      "       Calculates distance and additional proximity information between the\n",
      "       input features and the closest feature in another layer or feature\n",
      "       class.\n",
      "    \n",
      "    INPUTS:\n",
      "     in_features (Feature Layer):\n",
      "         The input features, which can be point, polyline, polygon, or\n",
      "         multipoint type.\n",
      "     near_features (Feature Layer):\n",
      "         One or more feature layers or feature classes containing near\n",
      "         feature candidates. The near features can be point, polyline, polygon,\n",
      "         or multipoint. If multiple layers or feature classes are specified,\n",
      "         thefield will be added to the input table and will store the paths of\n",
      "         the source feature class containing the nearest feature found. The\n",
      "         same feature class or layer can be used as both input features and\n",
      "         near features. NEAR_FC\n",
      "     search_radius {Linear Unit}:\n",
      "         The radius that will be used to search for near features. If no value\n",
      "         is specified, all near features will be considered. If a distance but\n",
      "         no unit or unknown is specified, the units of the coordinate system of\n",
      "         the input features will be used. If the GEODESIC option is used for\n",
      "         the method parameter, use a linear unit such as kilometers or miles.\n",
      "     location {Boolean}:\n",
      "         Specifies whether x- and y-coordinates of the closest location\n",
      "         of the near feature will be written to theandfields.\n",
      "         NEAR_XNEAR_YNO_LOCATION-Location information will not be written.\n",
      "         This is the\n",
      "         default.LOCATION-Location information will be written.\n",
      "     angle {Boolean}:\n",
      "         Specifies whether the near angle will be calculated and\n",
      "         written to thefield in the output table. A near angle measures\n",
      "         direction of the line connecting an input feature to its nearest\n",
      "         feature at their closest locations. When the PLANAR method is used for\n",
      "         the method parameter, the angle will be within the range of -180° to\n",
      "         180°, with 0° to the east, 90° to the north, 180° (or -180°) to the\n",
      "         west, and -90° to the south. When the GEODESIC method is used, the\n",
      "         angle will be within the range of -180° to 180°, with 0° to the north,\n",
      "         90° to the east, 180° (or -180°) to the south, and -90° to the west.\n",
      "         NEAR_ANGLENO_ANGLE-The near angle value will not be calculated or\n",
      "         written. This\n",
      "         is the default. ANGLE-The near angle value will be calculated\n",
      "         and written to\n",
      "         thefield. NEAR_ANGLE\n",
      "     method {String}:\n",
      "         Specifies whether a shortest path on a spheroid (geodesic) or a flat\n",
      "         earth (planar) distance method will be used. It is recommended that\n",
      "         you use the GEODESIC method for data stored in a coordinate system\n",
      "         that is not appropriate for distance measurements (for example, Web\n",
      "         Mercator or any geographic coordinate system) and for a dataset that\n",
      "         spans a large geographic area.PLANAR-Planar distance will be used\n",
      "         between features. This is the\n",
      "         default.GEODESIC-Geodesic distance will be used between features. This\n",
      "         method\n",
      "         takes into account the curvature of the spheroid and correctly deals\n",
      "         with data near the international date line and the poles.\n",
      "     field_names {Value Table}:\n",
      "         The names of the attribute fields that will be added during\n",
      "         processing.If this parameter is not used or any fields that will be\n",
      "         added are\n",
      "         excluded from this parameter, the default field names will be used.\n",
      "         By default,andfields will be added,andfields will be added\n",
      "         when the location parameter is set to LOCATION, thefield will be added\n",
      "         when the angle parameter is set to ANGLE, and thefield will be added\n",
      "         when multiple inputs are used.\n",
      "         NEAR_FIDNEAR_DISTNEAR_XNEAR_YNEAR_ANGLENEAR_FC\n",
      "     distance_unit {String}:\n",
      "         Specifies the unit of measurement for thefiled. When no unit\n",
      "         of measurement is specified, the values in thefield will be in the\n",
      "         linear unit of the input feature's coordinate system. If the input is\n",
      "         in a geographic coordinate system and the geodesic method is used, the\n",
      "         units of thefield will be meters.\n",
      "         NEAR_DISTNEAR_DISTNEAR_DISTKilometers-The unit will be\n",
      "         kilometers.Meters-The unit will be\n",
      "         meters.NauticalMilesInt-The unit will be international nautical\n",
      "         miles.MilesInt-The unit will be statute miles.YardsInt-The unit will\n",
      "         be international yards.FeetInt-The unit will be international\n",
      "         feet.NauticalMiles-The unit will be U.S. survey nautical\n",
      "         miles.Miles-The unit will be U.S. survey miles.Yards-The unit will be\n",
      "         U.S. survey yards.Feet-The unit will be U.S. survey feet.\n",
      "\n"
     ]
    }
   ],
   "source": [
    "# Get the documentation for Buffer_analysis\n",
    "help(arcpy.Near_analysis)"
   ]
  },
  {
   "cell_type": "code",
   "execution_count": 22,
   "metadata": {},
   "outputs": [
    {
     "data": {
      "text/plain": [
       "['Near3D_3d', 'Near_analysis', 'NearestNeighbor3D_ga']"
      ]
     },
     "execution_count": 22,
     "metadata": {},
     "output_type": "execute_result"
    }
   ],
   "source": [
    "arcpy.ListTools('Near*')"
   ]
  },
  {
   "cell_type": "code",
   "execution_count": 24,
   "metadata": {},
   "outputs": [
    {
     "data": {
      "text/plain": [
       "'D:\\\\1_yogafile\\\\3_FSU\\\\7_intro to spatial data science mooc\\\\EsriTraining\\\\python_scripting_for_geoprocessing_workflows\\\\PythonGP\\\\PythonGP\\\\Data'"
      ]
     },
     "execution_count": 24,
     "metadata": {},
     "output_type": "execute_result"
    }
   ],
   "source": [
    "pwd"
   ]
  },
  {
   "cell_type": "markdown",
   "metadata": {},
   "source": [
    "# buffer water"
   ]
  },
  {
   "cell_type": "markdown",
   "metadata": {},
   "source": [
    "## create a list of buffer feature class in gdb \n",
    "\n",
    "\n",
    "If you specify only the distance, the units of the spatial reference will be used. In this case, your feature classes are already stored in meters, so you could have provided the distance without the units.\n"
   ]
  },
  {
   "cell_type": "code",
   "execution_count": 35,
   "metadata": {},
   "outputs": [],
   "source": [
    "fcList=arcpy.ListFeatureClasses()\n",
    "\n",
    "#create a loop to buffer lakes and streams\n",
    "\n",
    "BufferList=[]\n",
    "\n",
    "for fc in fcList:\n",
    "    if fc=='Lakes' or fc=='Streams':\n",
    "        arcpy.Buffer_analysis(fc,fc+'Buffer','1000 meters')\n",
    "        BufferList.append(fc+'Buffer')\n",
    "        \n",
    "        \n",
    "\n",
    "\n"
   ]
  },
  {
   "cell_type": "code",
   "execution_count": 36,
   "metadata": {},
   "outputs": [
    {
     "data": {
      "text/plain": [
       "['Streams', 'Roads', 'Lakes', 'Wilderness', 'Forest_background', 'Forest', 'Invasive_plants', 'RoadBuffers', 'StreamsBuffer', 'LakesBuffer']"
      ]
     },
     "execution_count": 36,
     "metadata": {},
     "output_type": "execute_result"
    }
   ],
   "source": [
    "fcList"
   ]
  },
  {
   "cell_type": "code",
   "execution_count": 33,
   "metadata": {},
   "outputs": [
    {
     "data": {
      "text/plain": [
       "\"Buffer_analysis(in_features, out_feature_class, buffer_distance_or_field, {Full | Left | Right | Exclude the input polygon from buffer}, {Round | Flat}, {No Dissolve | Dissolve all output features into a single feature | Dissolve features using the listed fields' unique values or combination of values}, {dissolve_field;dissolve_field...}, {Planar | Geodesic (shape preserving)})\""
      ]
     },
     "execution_count": 33,
     "metadata": {},
     "output_type": "execute_result"
    }
   ],
   "source": [
    "arcpy.Usage('Buffer_analysis')"
   ]
  },
  {
   "cell_type": "code",
   "execution_count": 37,
   "metadata": {},
   "outputs": [
    {
     "data": {
      "text/plain": [
       "['StreamsBuffer', 'LakesBuffer']"
      ]
     },
     "execution_count": 37,
     "metadata": {},
     "output_type": "execute_result"
    }
   ],
   "source": [
    "BufferList"
   ]
  },
  {
   "cell_type": "markdown",
   "metadata": {},
   "source": [
    "## union buffer polygons"
   ]
  },
  {
   "cell_type": "code",
   "execution_count": 38,
   "metadata": {},
   "outputs": [
    {
     "data": {
      "text/plain": [
       "'Union_analysis(Features {Ranks};Features {Ranks}..., out_feature_class, {All attributes | All attributes except feature IDs | Only feature IDs}, {cluster_tolerance}, {GAPS | NO_GAPS})'"
      ]
     },
     "execution_count": 38,
     "metadata": {},
     "output_type": "execute_result"
    }
   ],
   "source": [
    "arcpy.Usage('Union_analysis')"
   ]
  },
  {
   "cell_type": "code",
   "execution_count": 39,
   "metadata": {},
   "outputs": [
    {
     "data": {
      "text/html": [
       "<div class='gpresult'><h2>Messages</h2><div id='messages'>Start Time: Sunday, September 22, 2024 12:36:17 PM<br>Reading Features...<br>Cracking Features...<br>Assembling Features...<br>Succeeded at Sunday, September 22, 2024 12:36:18 PM (Elapsed Time: 1.41 seconds)<br></div><div id = 'default' /></div></div>"
      ],
      "text/plain": [
       "<Result 'D:\\\\1_yogafile\\\\3_FSU\\\\7_intro to spatial data science mooc\\\\EsriTraining\\\\python_scripting_for_geoprocessing_workflows\\\\PythonGP\\\\PythonGP\\\\Data\\\\SanJuan.gdb\\\\WaterBuffers'>"
      ]
     },
     "execution_count": 39,
     "metadata": {},
     "output_type": "execute_result"
    }
   ],
   "source": [
    "arcpy.Union_analysis(BufferList,'WaterBuffers')"
   ]
  },
  {
   "cell_type": "markdown",
   "metadata": {},
   "source": [
    "# union the buffers to complete the treatment areas"
   ]
  },
  {
   "cell_type": "code",
   "execution_count": 40,
   "metadata": {},
   "outputs": [],
   "source": [
    "#create a list of features used for treatement\n",
    "\n",
    "treatement=['RoadBuffers','WaterBuffers']"
   ]
  },
  {
   "cell_type": "code",
   "execution_count": 41,
   "metadata": {},
   "outputs": [
    {
     "data": {
      "text/plain": [
       "'Union_analysis(Features {Ranks};Features {Ranks}..., out_feature_class, {All attributes | All attributes except feature IDs | Only feature IDs}, {cluster_tolerance}, {GAPS | NO_GAPS})'"
      ]
     },
     "execution_count": 41,
     "metadata": {},
     "output_type": "execute_result"
    }
   ],
   "source": [
    "arcpy.Usage('Union_analysis')"
   ]
  },
  {
   "cell_type": "code",
   "execution_count": 42,
   "metadata": {},
   "outputs": [
    {
     "data": {
      "text/html": [
       "<div class='gpresult'><h2>Messages</h2><div id='messages'>Start Time: Sunday, September 22, 2024 12:47:02 PM<br>Reading Features...<br>Cracking Features...<br>Assembling Features...<br>Succeeded at Sunday, September 22, 2024 12:47:04 PM (Elapsed Time: 1.36 seconds)<br></div><div id = 'default' /></div></div>"
      ],
      "text/plain": [
       "<Result 'D:\\\\1_yogafile\\\\3_FSU\\\\7_intro to spatial data science mooc\\\\EsriTraining\\\\python_scripting_for_geoprocessing_workflows\\\\PythonGP\\\\PythonGP\\\\Data\\\\SanJuan.gdb\\\\NonChemical'>"
      ]
     },
     "execution_count": 42,
     "metadata": {},
     "output_type": "execute_result"
    }
   ],
   "source": [
    "\n",
    "## Input is a list for union, give a string name for the output features\n",
    "\n",
    "arcpy.Union_analysis(treatement,'NonChemical')"
   ]
  },
  {
   "cell_type": "code",
   "execution_count": 44,
   "metadata": {},
   "outputs": [
    {
     "data": {
      "text/plain": [
       "'SelectLayerByLocation_management(in_layer;in_layer..., {Intersect | Intersect 3D | Intersect (DBMS) | Within a distance geodesic | Within a distance | Within a distance 3D | Contains | Completely contains | Contains Clementini | Within | Completely within | Within Clementini | Are identical to | Boundary touches | Share a line segment with | Crossed by the outline of | Have their center in}, {select_features}, {search_distance}, {New selection | Add to the current selection | Remove from the current selection | Select subset from the current selection | Switch the current selection}, {NOT_INVERT | INVERT})'"
      ]
     },
     "execution_count": 44,
     "metadata": {},
     "output_type": "execute_result"
    }
   ],
   "source": [
    "arcpy.Usage('SelectLayerByLocation')"
   ]
  },
  {
   "cell_type": "markdown",
   "metadata": {},
   "source": [
    "# work on the step 2 of the union the bufers to complete the treatment areas"
   ]
  },
  {
   "cell_type": "code",
   "execution_count": null,
   "metadata": {},
   "outputs": [],
   "source": [
    "# arcpy.SelectLayerByLocation_management(NonChemical,)"
   ]
  },
  {
   "cell_type": "code",
   "execution_count": null,
   "metadata": {},
   "outputs": [],
   "source": []
  },
  {
   "cell_type": "code",
   "execution_count": null,
   "metadata": {},
   "outputs": [],
   "source": []
  },
  {
   "cell_type": "code",
   "execution_count": null,
   "metadata": {},
   "outputs": [],
   "source": []
  },
  {
   "cell_type": "code",
   "execution_count": null,
   "metadata": {},
   "outputs": [],
   "source": []
  },
  {
   "cell_type": "code",
   "execution_count": null,
   "metadata": {},
   "outputs": [],
   "source": []
  },
  {
   "cell_type": "code",
   "execution_count": null,
   "metadata": {},
   "outputs": [],
   "source": []
  }
 ],
 "metadata": {
  "kernelspec": {
   "display_name": "ArcGISPro",
   "language": "Python",
   "name": "python3"
  },
  "language_info": {
   "file_extension": ".py",
   "name": "python",
   "version": "3"
  }
 },
 "nbformat": 4,
 "nbformat_minor": 2
}
